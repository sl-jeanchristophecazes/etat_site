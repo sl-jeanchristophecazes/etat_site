{
 "cells": [
  {
   "cell_type": "code",
   "execution_count": 5,
   "metadata": {},
   "outputs": [],
   "source": [
    "l = ['a','b']\n",
    "l2 = ['t1.' + k for k in l]"
   ]
  },
  {
   "cell_type": "code",
   "execution_count": 11,
   "metadata": {},
   "outputs": [
    {
     "data": {
      "text/plain": [
       "'t1.a, t1.b'"
      ]
     },
     "execution_count": 11,
     "metadata": {},
     "output_type": "execute_result"
    }
   ],
   "source": [
    "', '.join(l2)"
   ]
  },
  {
   "cell_type": "code",
   "execution_count": 20,
   "metadata": {},
   "outputs": [],
   "source": [
    "# Paramètres : datedebut / datefin / typepublication / sourcecouplage \n",
    "# / table_transaction et ses colonnes / colonne de jointure date / colonne de jointure annonce\n",
    "# / table_bien et ses colonnes / colonne de jointure date / colonne de jointure annonce\n",
    "# \n",
    "\n",
    "def format_query(date_debut, \n",
    "                datefin, \n",
    "                typepublication,\n",
    "                sourcecouplage,\n",
    "                dim_annonce_col_list,\n",
    "                annonce_col_list,\n",
    "                typetransaction_table,\n",
    "                typetransaction_col_list,\n",
    "                typebien_table,\n",
    "                typebien_col_list\n",
    "                ):\n",
    "\n",
    "    # Adding table alias for each col in list (list)\n",
    "    dim_annonce_col_list_with_alias = ['t1.' + col for col in dim_annonce_col_list]\n",
    "    annonce_col_list_with_alias = ['t2.' + col for col in annonce_col_list]\n",
    "    typebien_col_list_with_alias = ['t3.' + col for col in typebien_col_list]\n",
    "    typetransaction_col_list_with_alias = ['t4.' + col for col in typetransaction_col_list]\n",
    "\n",
    "    # joining them together (str)\n",
    "    dim_annonce_col_string = ', '.join(dim_annonce_col_list_with_alias)\n",
    "    annonce_col_string = ', '.join(annonce_col_list_with_alias)\n",
    "    typebien_col_string = ', '.join(typebien_col_list_with_alias)\n",
    "    typetransaction_col_string = ', '.join(typetransaction_col_list_with_alias)\n",
    "\n",
    "    # Full columns for all the tables (str)\n",
    "    full_cols = dim_annonce_col_string + ', ' + annonce_col_string + ', ' + typebien_col_string \\\n",
    "                + ', ' + typetransaction_col_string\n",
    "\n",
    "    # Full columns for dim_annonce (str)\n",
    "    dim_annonce_cols = ', '.join(dim_annonce_col_list)\n",
    "\n",
    "    # Full columns for annonce_history (str)\n",
    "    annonce_cols = ', '.join(annonce_col_list)\n",
    "\n",
    "    # Full columns for typetransaction_table (str)\n",
    "    transaction_cols = ', '.join(typetransaction_col_list)\n",
    "\n",
    "    # Full columns for typebien_table (str)\n",
    "    bien_cols = ', '.join(typebien_col_list)\n",
    "\n",
    "    idannonce_join_for_annonce = annonce_col_list[0]\n",
    "    idannonce_join_for_typetransaction = typetransaction_col_list[0]\n",
    "    idannonce_join_for_typebien = typebien_col_list[0]\n",
    "\n",
    "    return(full_cols, dim_annonce_cols, annonce_cols, transaction_cols, bien_cols)\n"
   ]
  },
  {
   "cell_type": "code",
   "execution_count": 21,
   "metadata": {},
   "outputs": [],
   "source": [
    "full_cols, dim_annonce_cols, annonce_cols, transaction_cols, bien_cols = format_query(date_debut = '2020-03-01', \n",
    "                                                datefin = '2020-03-15', \n",
    "                                                typepublication = 1,\n",
    "                                                sourcecouplage = 0,\n",
    "                                                dim_annonce_col_list = ['iddwh_annonce'],\n",
    "                                                annonce_col_list = ['idannonce','libelle_fr'],\n",
    "                                                typetransaction_table = 'immobc.abappartement_history',\n",
    "                                                typetransaction_col_list = ['idannonce', 'px', 'prixmaxi'],\n",
    "                                                typebien_table = 'immobc.atvente_history',\n",
    "                                                typebien_col_list = ['idannonce', 'si_meuble']\n",
    "                                                )"
   ]
  },
  {
   "cell_type": "code",
   "execution_count": 22,
   "metadata": {},
   "outputs": [
    {
     "data": {
      "text/plain": [
       "'idannonce, libelle_fr'"
      ]
     },
     "execution_count": 22,
     "metadata": {},
     "output_type": "execute_result"
    }
   ],
   "source": [
    "annonce_cols"
   ]
  },
  {
   "cell_type": "code",
   "execution_count": 23,
   "metadata": {},
   "outputs": [
    {
     "data": {
      "text/plain": [
       "'idannonce, px, prixmaxi'"
      ]
     },
     "execution_count": 23,
     "metadata": {},
     "output_type": "execute_result"
    }
   ],
   "source": [
    "transaction_cols"
   ]
  },
  {
   "cell_type": "code",
   "execution_count": 24,
   "metadata": {},
   "outputs": [
    {
     "data": {
      "text/plain": [
       "'idannonce, si_meuble'"
      ]
     },
     "execution_count": 24,
     "metadata": {},
     "output_type": "execute_result"
    }
   ],
   "source": [
    "bien_cols"
   ]
  },
  {
   "cell_type": "code",
   "execution_count": 25,
   "metadata": {},
   "outputs": [
    {
     "data": {
      "text/plain": [
       "'t1.iddwh_annonce, t2.idannonce, t2.libelle_fr, t3.idannonce, t3.si_meuble, t4.idannonce, t4.px, t4.prixmaxi'"
      ]
     },
     "execution_count": 25,
     "metadata": {},
     "output_type": "execute_result"
    }
   ],
   "source": [
    "full_cols"
   ]
  },
  {
   "cell_type": "code",
   "execution_count": null,
   "metadata": {},
   "outputs": [],
   "source": []
  },
  {
   "cell_type": "code",
   "execution_count": null,
   "metadata": {},
   "outputs": [],
   "source": []
  },
  {
   "cell_type": "code",
   "execution_count": null,
   "metadata": {},
   "outputs": [],
   "source": []
  },
  {
   "cell_type": "code",
   "execution_count": null,
   "metadata": {},
   "outputs": [],
   "source": []
  },
  {
   "cell_type": "code",
   "execution_count": null,
   "metadata": {},
   "outputs": [],
   "source": []
  },
  {
   "cell_type": "code",
   "execution_count": null,
   "metadata": {},
   "outputs": [],
   "source": []
  },
  {
   "cell_type": "code",
   "execution_count": null,
   "metadata": {},
   "outputs": [],
   "source": []
  },
  {
   "cell_type": "code",
   "execution_count": null,
   "metadata": {},
   "outputs": [],
   "source": []
  },
  {
   "cell_type": "code",
   "execution_count": null,
   "metadata": {},
   "outputs": [],
   "source": []
  },
  {
   "cell_type": "code",
   "execution_count": null,
   "metadata": {},
   "outputs": [],
   "source": []
  },
  {
   "cell_type": "code",
   "execution_count": 35,
   "metadata": {},
   "outputs": [],
   "source": [
    "# Paramètres : datedebut / datefin / typepublication / sourcecouplage \n",
    "# / table_transaction et ses colonnes / colonne de jointure date / colonne de jointure annonce\n",
    "# / table_bien et ses colonnes / colonne de jointure date / colonne de jointure annonce\n",
    "# \n",
    "\n",
    "from sql_template import query\n",
    "\n",
    "def format_query(date_debut, \n",
    "                date_fin, \n",
    "                typepublication,\n",
    "                sourcecouplage,\n",
    "                dim_annonce_col_list,\n",
    "                annonce_col_list,\n",
    "                typetransaction_table,\n",
    "                typetransaction_col_list,\n",
    "                typebien_table,\n",
    "                typebien_col_list, \n",
    "                query\n",
    "                ):\n",
    "\n",
    "    # Adding table alias for each col in list (list)\n",
    "    dim_annonce_col_list_with_alias = ['t1.' + col for col in dim_annonce_col_list]\n",
    "    annonce_col_list_with_alias = ['t2.' + col for col in annonce_col_list]\n",
    "    typebien_col_list_with_alias = ['t3.' + col for col in typebien_col_list]\n",
    "    typetransaction_col_list_with_alias = ['t4.' + col for col in typetransaction_col_list]\n",
    "\n",
    "    # joining them together (str)\n",
    "    dim_annonce_col_string = ', '.join(dim_annonce_col_list_with_alias)\n",
    "    annonce_col_string = ', '.join(annonce_col_list_with_alias)\n",
    "    typebien_col_string = ', '.join(typebien_col_list_with_alias)\n",
    "    typetransaction_col_string = ', '.join(typetransaction_col_list_with_alias)\n",
    "\n",
    "    # Full columns for all the tables (str)\n",
    "    full_cols = dim_annonce_col_string + ', ' + annonce_col_string + ', ' + typebien_col_string \\\n",
    "                + ', ' + typetransaction_col_string\n",
    "\n",
    "    # Full columns for dim_annonce (str)\n",
    "    dim_annonce_cols = ', '.join(dim_annonce_col_list)\n",
    "\n",
    "    # Full columns for annonce_history (str)\n",
    "    annonce_cols = ', '.join(annonce_col_list)\n",
    "\n",
    "    # Full columns for typetransaction_table (str)\n",
    "    transaction_cols = ', '.join(typetransaction_col_list)\n",
    "\n",
    "    # Full columns for typebien_table (str)\n",
    "    bien_cols = ', '.join(typebien_col_list)\n",
    "\n",
    "    idannonce_join_for_annonce = annonce_col_list[0]\n",
    "    idannonce_join_for_typetransaction = typetransaction_col_list[0]\n",
    "    idannonce_join_for_typebien = typebien_col_list[0]\n",
    "    \n",
    "    # config_dict\n",
    "    config_dict = {'full_cols': full_cols,\n",
    "                   'date_debut': date_debut,\n",
    "                   'date_fin': date_fin, \n",
    "                   'typepublication': typepublication, \n",
    "                   'sourcecouplage': sourcecouplage,\n",
    "                   'dim_annonce_cols': dim_annonce_cols,\n",
    "                   'annonce_cols': annonce_cols,\n",
    "                   'transaction_cols': transaction_cols,\n",
    "                   'typebien_table': typebien_table,\n",
    "                   'typetransaction_table': typetransaction_table,\n",
    "                   'bien_cols': bien_cols,\n",
    "                   'idannonce_join_for_annonce': idannonce_join_for_annonce,\n",
    "                   'idannonce_join_for_typetransaction': idannonce_join_for_typetransaction,\n",
    "                   'idannonce_join_for_typebien': idannonce_join_for_typebien\n",
    "                  }\n",
    "    \n",
    "    query = query.format(**config_dict)\n",
    "    \n",
    "    return(query)\n"
   ]
  },
  {
   "cell_type": "code",
   "execution_count": 36,
   "metadata": {},
   "outputs": [],
   "source": [
    "from sql_template import query\n",
    "\n",
    "query = format_query(date_debut = '2020-03-01', \n",
    "                    date_fin = '2020-03-15', \n",
    "                    typepublication = 1,\n",
    "                    sourcecouplage = 0,\n",
    "                    dim_annonce_col_list = ['iddwh_annonce'],\n",
    "                    annonce_col_list = ['idannonce','libelle_fr'],\n",
    "                    typetransaction_table = 'immobc.abappartement_history',\n",
    "                    typetransaction_col_list = ['idannonce', 'px', 'prixmaxi'],\n",
    "                    typebien_table = 'immobc.atvente_history',\n",
    "                    typebien_col_list = ['idannonce', 'si_meuble'], \n",
    "                    query = query\n",
    "                    )"
   ]
  },
  {
   "cell_type": "code",
   "execution_count": 37,
   "metadata": {},
   "outputs": [
    {
     "name": "stdout",
     "output_type": "stream",
     "text": [
      "\n",
      "SELECT t1.iddwh_annonce, t2.idannonce, t2.libelle_fr, t3.idannonce, t3.si_meuble, t4.idannonce, t4.px, t4.prixmaxi FROM\n",
      "\n",
      "\n",
      "      (\n",
      "           SELECT iddwh_annonce\n",
      "                  from dwhdweb.dimannoncepublicationhisto\n",
      "                  WHERE (datedebut >   TIMESTAMP '2020-03-01' AND datefin < TIMESTAMP '2020-03-15' AND\n",
      "                        (iddwh_typepublication = 1 AND iddwh_typepublicationcouplage = 0))\n",
      "      )\n",
      "      AS t1\n",
      "\n",
      "\n",
      "LEFT JOIN\n",
      "\n",
      "\n",
      "     (\n",
      "           SELECT *\n",
      "                      FROM\n",
      "                         (\n",
      "                          SELECT\n",
      "                               idannonce, libelle_fr,\n",
      "                               CAST(from_iso8601_timestamp(CONCAT(CAST(year AS VARCHAR),'-',LPAD(CAST(month AS VARCHAR),2,'0'),'-',LPAD(CAST(day AS VARCHAR),2,'0'))) AS TIMESTAMP) AS datemaj\n",
      "\n",
      "                               FROM \"immobc\".\"annonce_history\"\n",
      "                         )\n",
      "\n",
      "                      WHERE datemaj BETWEEN TIMESTAMP '2020-03-01' AND TIMESTAMP '2020-03-15'\n",
      "    )\n",
      "    AS t2\n",
      "\n",
      "ON t1.iddwh_annonce = t2.idannonce\n",
      "\n",
      "INNER JOIN\n",
      "\n",
      "\n",
      "    (\n",
      "           SELECT *\n",
      "                      FROM\n",
      "                          (\n",
      "                          SELECT  idannonce, si_meuble,\n",
      "                                  CAST(from_iso8601_timestamp(CONCAT(CAST(year AS VARCHAR),'-',LPAD(CAST(month AS VARCHAR),2,'0'),'-',LPAD(CAST(day AS VARCHAR),2,'0'))) AS TIMESTAMP) datemaj\n",
      "\n",
      "                                  FROM immobc.atvente_history\n",
      "                          )\n",
      "                      WHERE datemaj BETWEEN TIMESTAMP '2020-03-01' AND TIMESTAMP '2020-03-15'\n",
      "    )\n",
      "     AS t3\n",
      "\n",
      "ON t1.iddwh_annonce = t3.idannonce AND t3.datemaj = t2.datemaj\n",
      "\n",
      "INNER JOIN\n",
      "\n",
      "    (\n",
      "           SELECT *\n",
      "                      FROM\n",
      "                          (\n",
      "                          SELECT idannonce, px, prixmaxi,\n",
      "                                  CAST(from_iso8601_timestamp(CONCAT(CAST(year AS VARCHAR),'-',LPAD(CAST(month AS VARCHAR),2,'0'),'-',LPAD(CAST(day AS VARCHAR),2,'0'))) AS TIMESTAMP) datemaj\n",
      "\n",
      "                                  FROM immobc.abappartement_history\n",
      "                          )\n",
      "                      WHERE datemaj BETWEEN TIMESTAMP '2020-03-01' AND TIMESTAMP '2020-03-15'\n",
      "    )\n",
      "\n",
      "AS t4\n",
      "\n",
      "ON t1.iddwh_annonce = t4.idannonce AND t4.datemaj = t2.datemaj\n",
      "\n"
     ]
    }
   ],
   "source": [
    "print(query)"
   ]
  },
  {
   "cell_type": "code",
   "execution_count": null,
   "metadata": {},
   "outputs": [],
   "source": []
  },
  {
   "cell_type": "code",
   "execution_count": null,
   "metadata": {},
   "outputs": [],
   "source": []
  },
  {
   "cell_type": "code",
   "execution_count": null,
   "metadata": {},
   "outputs": [],
   "source": []
  },
  {
   "cell_type": "code",
   "execution_count": null,
   "metadata": {},
   "outputs": [],
   "source": []
  },
  {
   "cell_type": "code",
   "execution_count": null,
   "metadata": {},
   "outputs": [],
   "source": []
  },
  {
   "cell_type": "code",
   "execution_count": null,
   "metadata": {},
   "outputs": [],
   "source": []
  },
  {
   "cell_type": "code",
   "execution_count": null,
   "metadata": {},
   "outputs": [],
   "source": []
  },
  {
   "cell_type": "code",
   "execution_count": null,
   "metadata": {},
   "outputs": [],
   "source": []
  },
  {
   "cell_type": "code",
   "execution_count": null,
   "metadata": {},
   "outputs": [],
   "source": []
  },
  {
   "cell_type": "code",
   "execution_count": null,
   "metadata": {},
   "outputs": [],
   "source": []
  },
  {
   "cell_type": "code",
   "execution_count": null,
   "metadata": {},
   "outputs": [],
   "source": []
  },
  {
   "cell_type": "code",
   "execution_count": null,
   "metadata": {},
   "outputs": [],
   "source": []
  },
  {
   "cell_type": "code",
   "execution_count": null,
   "metadata": {},
   "outputs": [],
   "source": []
  },
  {
   "cell_type": "code",
   "execution_count": null,
   "metadata": {},
   "outputs": [],
   "source": []
  }
 ],
 "metadata": {
  "kernelspec": {
   "display_name": "Python 3",
   "language": "python",
   "name": "python3"
  },
  "language_info": {
   "codemirror_mode": {
    "name": "ipython",
    "version": 3
   },
   "file_extension": ".py",
   "mimetype": "text/x-python",
   "name": "python",
   "nbconvert_exporter": "python",
   "pygments_lexer": "ipython3",
   "version": "3.8.2"
  }
 },
 "nbformat": 4,
 "nbformat_minor": 4
}
